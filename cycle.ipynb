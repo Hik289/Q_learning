{
 "cells": [
  {
   "cell_type": "code",
   "execution_count": 361,
   "id": "5fa6dee5",
   "metadata": {},
   "outputs": [],
   "source": [
    "import pandas as pd\n",
    "import numpy as np\n",
    "import scipy.optimize"
   ]
  },
  {
   "cell_type": "code",
   "execution_count": 74,
   "id": "9e94d6b0",
   "metadata": {},
   "outputs": [],
   "source": [
    "sigma_ = np.array([0.2,0.3,0.4])\n",
    "pho_ = np.array([-0.8,0.5,-0.2])\n",
    "lambda_ = np.array([0.5,0.7,0.8])"
   ]
  },
  {
   "cell_type": "code",
   "execution_count": 75,
   "id": "bc62f872",
   "metadata": {},
   "outputs": [],
   "source": [
    "pho = np.array([[1,0.8,0.2],[0.8,1,0.5],[0.2,0.5,1]])"
   ]
  },
  {
   "cell_type": "code",
   "execution_count": 76,
   "id": "2a5f3668",
   "metadata": {},
   "outputs": [],
   "source": [
    "sigma = np.outer(np.array([sigma_]).reshape(-1,1),sigma_)"
   ]
  },
  {
   "cell_type": "code",
   "execution_count": 77,
   "id": "aac0c916",
   "metadata": {},
   "outputs": [],
   "source": [
    "cov = sigma*pho"
   ]
  },
  {
   "cell_type": "code",
   "execution_count": 122,
   "id": "51da08fc",
   "metadata": {},
   "outputs": [],
   "source": [
    "A = np.linalg.cholesky(cov).T"
   ]
  },
  {
   "cell_type": "code",
   "execution_count": 123,
   "id": "6bb0c9d6",
   "metadata": {},
   "outputs": [],
   "source": [
    "b = np.dot(A,lambda_)"
   ]
  },
  {
   "cell_type": "code",
   "execution_count": 124,
   "id": "684579a5",
   "metadata": {},
   "outputs": [
    {
     "data": {
      "text/plain": [
       "(array([0.5, 0.7, 0.8]), 0.0)"
      ]
     },
     "execution_count": 124,
     "metadata": {},
     "output_type": "execute_result"
    }
   ],
   "source": [
    "scipy.optimize.nnls(A,b)"
   ]
  },
  {
   "cell_type": "code",
   "execution_count": null,
   "id": "e0c32216",
   "metadata": {},
   "outputs": [],
   "source": []
  },
  {
   "cell_type": "code",
   "execution_count": null,
   "id": "8cea49eb",
   "metadata": {},
   "outputs": [],
   "source": []
  },
  {
   "cell_type": "code",
   "execution_count": null,
   "id": "25ac4c48",
   "metadata": {},
   "outputs": [],
   "source": []
  },
  {
   "cell_type": "code",
   "execution_count": 391,
   "id": "73c84f7a",
   "metadata": {},
   "outputs": [],
   "source": [
    "sigma_ = np.array([0.1,0.2,0.3,0.4])\n",
    "\n",
    "lambda_ = np.array([0.6,0.3,0.5,0.2])\n",
    "pho = np.array([[1,-0.2,-0.3,-0.4],[-0.2,1,0.5,0.6],[-0.3,0.5,1,0.9],[-0.4,0.6,0.9,1]])\n",
    "sigma = np.outer(np.array([sigma_]).reshape(-1,1),sigma_)\n",
    "cov = sigma*pho"
   ]
  },
  {
   "cell_type": "code",
   "execution_count": 392,
   "id": "63a08de7",
   "metadata": {},
   "outputs": [
    {
     "data": {
      "text/plain": [
       "array([[ 1. , -0.2, -0.3, -0.4],\n",
       "       [-0.2,  1. ,  0.5,  0.6],\n",
       "       [-0.3,  0.5,  1. ,  0.9],\n",
       "       [-0.4,  0.6,  0.9,  1. ]])"
      ]
     },
     "execution_count": 392,
     "metadata": {},
     "output_type": "execute_result"
    }
   ],
   "source": [
    "pho"
   ]
  },
  {
   "cell_type": "code",
   "execution_count": 423,
   "id": "bf27bd18",
   "metadata": {},
   "outputs": [],
   "source": [
    "fun = lambda x: np.dot(np.dot(x,cov),x)\n",
    "x = np.array([0.5,0.5,0.5,0.5])\n",
    "bnds = [(0.1,None), (0,None),(0,None),(0,None)]"
   ]
  },
  {
   "cell_type": "code",
   "execution_count": 424,
   "id": "d701592d",
   "metadata": {},
   "outputs": [],
   "source": [
    "res = scipy.optimize.minimize(fun,x0=x,bounds=bnds)"
   ]
  },
  {
   "cell_type": "code",
   "execution_count": 425,
   "id": "cd383058",
   "metadata": {},
   "outputs": [
    {
     "data": {
      "text/plain": [
       "      fun: 8.400002306356416e-05\n",
       " hess_inv: <4x4 LbfgsInvHessProduct with dtype=float64>\n",
       "      jac: array([1.67961590e-03, 1.61152989e-04, 3.62594225e-04, 3.84356311e-06])\n",
       "  message: 'CONVERGENCE: NORM_OF_PROJECTED_GRADIENT_<=_PGTOL'\n",
       "     nfev: 50\n",
       "      nit: 9\n",
       "     njev: 10\n",
       "   status: 0\n",
       "  success: True\n",
       "        x: array([0.1       , 0.        , 0.        , 0.01001201])"
      ]
     },
     "execution_count": 425,
     "metadata": {},
     "output_type": "execute_result"
    }
   ],
   "source": [
    "res"
   ]
  },
  {
   "cell_type": "code",
   "execution_count": 385,
   "id": "d22217b9",
   "metadata": {},
   "outputs": [
    {
     "data": {
      "text/plain": [
       "array([0.89000016, 0.3       , 0.5       , 0.2       ])"
      ]
     },
     "execution_count": 385,
     "metadata": {},
     "output_type": "execute_result"
    }
   ],
   "source": [
    "res.x"
   ]
  },
  {
   "cell_type": "code",
   "execution_count": 386,
   "id": "561bb2b0",
   "metadata": {},
   "outputs": [
    {
     "data": {
      "text/plain": [
       "(array([0.25489157, 0.0071416 , 0.01189306, 0.02607377]),\n",
       " array([[ 0.07597826, -0.83322623, -0.54749673, -0.01444566],\n",
       "        [-0.2548014 ,  0.12949122, -0.20774738, -0.93549415],\n",
       "        [-0.5630241 ,  0.37039864, -0.65105029,  0.34920228],\n",
       "        [-0.78250074, -0.38957788,  0.48293051,  0.05195952]]))"
      ]
     },
     "execution_count": 386,
     "metadata": {},
     "output_type": "execute_result"
    }
   ],
   "source": [
    "np.linalg.eig(cov)"
   ]
  },
  {
   "cell_type": "code",
   "execution_count": 387,
   "id": "5a2113af",
   "metadata": {},
   "outputs": [
    {
     "data": {
      "text/plain": [
       "array([[122.44897959,  -5.10204082, -13.60544218,  22.95918367],\n",
       "       [ -5.10204082,  39.79591837,   6.12244898, -16.58163265],\n",
       "       [-13.60544218,   6.12244898,  60.77097506, -44.21768707],\n",
       "       [ 22.95918367, -16.58163265, -44.21768707,  43.36734694]])"
      ]
     },
     "execution_count": 387,
     "metadata": {},
     "output_type": "execute_result"
    }
   ],
   "source": [
    "np.linalg.inv(cov)"
   ]
  },
  {
   "cell_type": "code",
   "execution_count": 388,
   "id": "0407bbee",
   "metadata": {},
   "outputs": [
    {
     "data": {
      "text/plain": [
       "array([[ 0.01 , -0.004, -0.009, -0.016],\n",
       "       [-0.004,  0.04 ,  0.03 ,  0.048],\n",
       "       [-0.009,  0.03 ,  0.09 ,  0.108],\n",
       "       [-0.016,  0.048,  0.108,  0.16 ]])"
      ]
     },
     "execution_count": 388,
     "metadata": {},
     "output_type": "execute_result"
    }
   ],
   "source": [
    "cov"
   ]
  },
  {
   "cell_type": "code",
   "execution_count": 262,
   "id": "4ed9190d",
   "metadata": {},
   "outputs": [
    {
     "data": {
      "text/plain": [
       "0.06500000000000003"
      ]
     },
     "execution_count": 262,
     "metadata": {},
     "output_type": "execute_result"
    }
   ],
   "source": [
    "np.dot(np.dot(res.x,cov),res.x)"
   ]
  },
  {
   "cell_type": "code",
   "execution_count": 258,
   "id": "0202fd5c",
   "metadata": {},
   "outputs": [
    {
     "data": {
      "text/plain": [
       "array([ 0.035, -0.05 ,  0.035])"
      ]
     },
     "execution_count": 258,
     "metadata": {},
     "output_type": "execute_result"
    }
   ],
   "source": [
    "np.dot(cov,x-res.x)"
   ]
  },
  {
   "cell_type": "code",
   "execution_count": 285,
   "id": "fa2f5bdf",
   "metadata": {},
   "outputs": [
    {
     "data": {
      "text/plain": [
       "array([[ 0.5       ,  0.        ,  0.        ],\n",
       "       [-0.1       ,  0.48989795,  0.        ],\n",
       "       [ 0.25      ,  0.40824829,  0.14433757]])"
      ]
     },
     "execution_count": 285,
     "metadata": {},
     "output_type": "execute_result"
    }
   ],
   "source": [
    "np.linalg.cholesky(cov)"
   ]
  },
  {
   "cell_type": "code",
   "execution_count": 286,
   "id": "03185db5",
   "metadata": {},
   "outputs": [
    {
     "data": {
      "text/plain": [
       "array([[ 0.25 , -0.05 ,  0.125],\n",
       "       [-0.05 ,  0.25 ,  0.175],\n",
       "       [ 0.125,  0.175,  0.25 ]])"
      ]
     },
     "execution_count": 286,
     "metadata": {},
     "output_type": "execute_result"
    }
   ],
   "source": [
    "cov"
   ]
  },
  {
   "cell_type": "code",
   "execution_count": 275,
   "id": "6fa4fd92",
   "metadata": {},
   "outputs": [
    {
     "data": {
      "text/plain": [
       "array([0.5, 0.7, 0.5])"
      ]
     },
     "execution_count": 275,
     "metadata": {},
     "output_type": "execute_result"
    }
   ],
   "source": [
    "res.x"
   ]
  },
  {
   "cell_type": "code",
   "execution_count": 274,
   "id": "6cf8704f",
   "metadata": {},
   "outputs": [
    {
     "data": {
      "text/plain": [
       "array([0.5, 0.5, 0.5])"
      ]
     },
     "execution_count": 274,
     "metadata": {},
     "output_type": "execute_result"
    }
   ],
   "source": [
    "x"
   ]
  },
  {
   "cell_type": "code",
   "execution_count": 318,
   "id": "c3bd8210",
   "metadata": {},
   "outputs": [
    {
     "data": {
      "text/plain": [
       "array([[ 0.01 , -0.018,  0.006],\n",
       "       [-0.018,  0.04 ,  0.042],\n",
       "       [ 0.006,  0.042,  0.09 ]])"
      ]
     },
     "execution_count": 318,
     "metadata": {},
     "output_type": "execute_result"
    }
   ],
   "source": [
    "cov"
   ]
  },
  {
   "cell_type": "code",
   "execution_count": 319,
   "id": "58b2e70f",
   "metadata": {},
   "outputs": [
    {
     "data": {
      "text/plain": [
       "(array([-0.00586793,  0.03185575,  0.11401219]),\n",
       " array([[-0.76307388, -0.64527402, -0.03660175],\n",
       "        [-0.57308054,  0.64934338,  0.49993188],\n",
       "        [ 0.29882595, -0.40246071,  0.86529095]]))"
      ]
     },
     "execution_count": 319,
     "metadata": {},
     "output_type": "execute_result"
    }
   ],
   "source": [
    "np.linalg.eig(cov)"
   ]
  },
  {
   "cell_type": "code",
   "execution_count": 344,
   "id": "92a9532c",
   "metadata": {},
   "outputs": [],
   "source": [
    "pho = np.array([[1,-0.9,-0.1],[-0.9,1,-0.9],[-0.9,-0.1,1]])"
   ]
  },
  {
   "cell_type": "code",
   "execution_count": 347,
   "id": "e4756dfd",
   "metadata": {},
   "outputs": [
    {
     "data": {
      "text/plain": [
       "array([[ 1. , -0.9, -0.1],\n",
       "       [-0.9,  1. , -0.9],\n",
       "       [-0.9, -0.1,  1. ]])"
      ]
     },
     "execution_count": 347,
     "metadata": {},
     "output_type": "execute_result"
    }
   ],
   "source": [
    "pho"
   ]
  },
  {
   "cell_type": "code",
   "execution_count": 348,
   "id": "275e7a2a",
   "metadata": {},
   "outputs": [
    {
     "data": {
      "text/plain": [
       "(array([-0.25601464+0.j        ,  1.62800732+0.43952199j,\n",
       "         1.62800732-0.43952199j]),\n",
       " array([[ 0.54436608+0.j        , -0.45837402-0.36900683j,\n",
       "         -0.45837402+0.36900683j],\n",
       "        [ 0.71007963+0.j        ,  0.06785141+0.48133828j,\n",
       "          0.06785141-0.48133828j],\n",
       "        [ 0.44660104+0.j        ,  0.64609355+0.j        ,\n",
       "          0.64609355-0.j        ]]))"
      ]
     },
     "execution_count": 348,
     "metadata": {},
     "output_type": "execute_result"
    }
   ],
   "source": [
    "np.linalg.eig(pho)"
   ]
  },
  {
   "cell_type": "code",
   "execution_count": 389,
   "id": "8bc89668",
   "metadata": {},
   "outputs": [
    {
     "data": {
      "text/plain": [
       "array([[ 0.02 , -0.008, -0.018, -0.032],\n",
       "       [-0.008,  0.08 ,  0.06 ,  0.096],\n",
       "       [-0.018,  0.06 ,  0.18 ,  0.216],\n",
       "       [-0.032,  0.096,  0.216,  0.32 ]])"
      ]
     },
     "execution_count": 389,
     "metadata": {},
     "output_type": "execute_result"
    }
   ],
   "source": [
    "cov+cov.T"
   ]
  },
  {
   "cell_type": "code",
   "execution_count": 390,
   "id": "81bba120",
   "metadata": {},
   "outputs": [
    {
     "data": {
      "text/plain": [
       "(array([0.50978313, 0.0142832 , 0.02378613, 0.05214754]),\n",
       " array([[ 0.07597826, -0.83322623, -0.54749673, -0.01444566],\n",
       "        [-0.2548014 ,  0.12949122, -0.20774738, -0.93549415],\n",
       "        [-0.5630241 ,  0.37039864, -0.65105029,  0.34920228],\n",
       "        [-0.78250074, -0.38957788,  0.48293051,  0.05195952]]))"
      ]
     },
     "execution_count": 390,
     "metadata": {},
     "output_type": "execute_result"
    }
   ],
   "source": [
    "np.linalg.eig(cov+cov.T)"
   ]
  },
  {
   "cell_type": "code",
   "execution_count": null,
   "id": "4ff01dd5",
   "metadata": {},
   "outputs": [],
   "source": []
  }
 ],
 "metadata": {
  "kernelspec": {
   "display_name": "Python 3 (ipykernel)",
   "language": "python",
   "name": "python3"
  },
  "language_info": {
   "codemirror_mode": {
    "name": "ipython",
    "version": 3
   },
   "file_extension": ".py",
   "mimetype": "text/x-python",
   "name": "python",
   "nbconvert_exporter": "python",
   "pygments_lexer": "ipython3",
   "version": "3.9.16"
  }
 },
 "nbformat": 4,
 "nbformat_minor": 5
}
